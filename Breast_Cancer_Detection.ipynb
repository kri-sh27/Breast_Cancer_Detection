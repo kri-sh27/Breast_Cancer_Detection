{
  "nbformat": 4,
  "nbformat_minor": 0,
  "metadata": {
    "colab": {
      "name": "Breast Cancer Detection.ipynb",
      "provenance": []
    },
    "kernelspec": {
      "name": "python3",
      "display_name": "Python 3"
    },
    "language_info": {
      "name": "python"
    }
  },
  "cells": [
    {
      "cell_type": "code",
      "metadata": {
        "id": "Vhb2BjomuM7i"
      },
      "source": [
        "import pandas as pd\n",
        "import numpy as np\n",
        "\n",
        "from sklearn.datasets import load_breast_cancer\n",
        "from sklearn.preprocessing import StandardScaler\n",
        "\n",
        "from keras.models import Sequential\n",
        "from keras.layers import Dense"
      ],
      "execution_count": 1,
      "outputs": []
    },
    {
      "cell_type": "code",
      "metadata": {
        "id": "gi4yxTiQun07"
      },
      "source": [
        "data = load_breast_cancer()"
      ],
      "execution_count": 2,
      "outputs": []
    },
    {
      "cell_type": "code",
      "metadata": {
        "colab": {
          "base_uri": "https://localhost:8080/"
        },
        "id": "AGpjkIlguxkP",
        "outputId": "f6ebfd1a-3ae6-465e-b67b-ca11bd391508"
      },
      "source": [
        "data.keys()"
      ],
      "execution_count": 3,
      "outputs": [
        {
          "output_type": "execute_result",
          "data": {
            "text/plain": [
              "dict_keys(['data', 'target', 'target_names', 'DESCR', 'feature_names', 'filename'])"
            ]
          },
          "metadata": {},
          "execution_count": 3
        }
      ]
    },
    {
      "cell_type": "code",
      "metadata": {
        "colab": {
          "base_uri": "https://localhost:8080/"
        },
        "id": "HX-7Cgaqu0VQ",
        "outputId": "64a2c859-4377-417e-ebbd-c5b46e364931"
      },
      "source": [
        "print(data['DESCR'])"
      ],
      "execution_count": 4,
      "outputs": [
        {
          "output_type": "stream",
          "name": "stdout",
          "text": [
            ".. _breast_cancer_dataset:\n",
            "\n",
            "Breast cancer wisconsin (diagnostic) dataset\n",
            "--------------------------------------------\n",
            "\n",
            "**Data Set Characteristics:**\n",
            "\n",
            "    :Number of Instances: 569\n",
            "\n",
            "    :Number of Attributes: 30 numeric, predictive attributes and the class\n",
            "\n",
            "    :Attribute Information:\n",
            "        - radius (mean of distances from center to points on the perimeter)\n",
            "        - texture (standard deviation of gray-scale values)\n",
            "        - perimeter\n",
            "        - area\n",
            "        - smoothness (local variation in radius lengths)\n",
            "        - compactness (perimeter^2 / area - 1.0)\n",
            "        - concavity (severity of concave portions of the contour)\n",
            "        - concave points (number of concave portions of the contour)\n",
            "        - symmetry \n",
            "        - fractal dimension (\"coastline approximation\" - 1)\n",
            "\n",
            "        The mean, standard error, and \"worst\" or largest (mean of the three\n",
            "        largest values) of these features were computed for each image,\n",
            "        resulting in 30 features.  For instance, field 3 is Mean Radius, field\n",
            "        13 is Radius SE, field 23 is Worst Radius.\n",
            "\n",
            "        - class:\n",
            "                - WDBC-Malignant\n",
            "                - WDBC-Benign\n",
            "\n",
            "    :Summary Statistics:\n",
            "\n",
            "    ===================================== ====== ======\n",
            "                                           Min    Max\n",
            "    ===================================== ====== ======\n",
            "    radius (mean):                        6.981  28.11\n",
            "    texture (mean):                       9.71   39.28\n",
            "    perimeter (mean):                     43.79  188.5\n",
            "    area (mean):                          143.5  2501.0\n",
            "    smoothness (mean):                    0.053  0.163\n",
            "    compactness (mean):                   0.019  0.345\n",
            "    concavity (mean):                     0.0    0.427\n",
            "    concave points (mean):                0.0    0.201\n",
            "    symmetry (mean):                      0.106  0.304\n",
            "    fractal dimension (mean):             0.05   0.097\n",
            "    radius (standard error):              0.112  2.873\n",
            "    texture (standard error):             0.36   4.885\n",
            "    perimeter (standard error):           0.757  21.98\n",
            "    area (standard error):                6.802  542.2\n",
            "    smoothness (standard error):          0.002  0.031\n",
            "    compactness (standard error):         0.002  0.135\n",
            "    concavity (standard error):           0.0    0.396\n",
            "    concave points (standard error):      0.0    0.053\n",
            "    symmetry (standard error):            0.008  0.079\n",
            "    fractal dimension (standard error):   0.001  0.03\n",
            "    radius (worst):                       7.93   36.04\n",
            "    texture (worst):                      12.02  49.54\n",
            "    perimeter (worst):                    50.41  251.2\n",
            "    area (worst):                         185.2  4254.0\n",
            "    smoothness (worst):                   0.071  0.223\n",
            "    compactness (worst):                  0.027  1.058\n",
            "    concavity (worst):                    0.0    1.252\n",
            "    concave points (worst):               0.0    0.291\n",
            "    symmetry (worst):                     0.156  0.664\n",
            "    fractal dimension (worst):            0.055  0.208\n",
            "    ===================================== ====== ======\n",
            "\n",
            "    :Missing Attribute Values: None\n",
            "\n",
            "    :Class Distribution: 212 - Malignant, 357 - Benign\n",
            "\n",
            "    :Creator:  Dr. William H. Wolberg, W. Nick Street, Olvi L. Mangasarian\n",
            "\n",
            "    :Donor: Nick Street\n",
            "\n",
            "    :Date: November, 1995\n",
            "\n",
            "This is a copy of UCI ML Breast Cancer Wisconsin (Diagnostic) datasets.\n",
            "https://goo.gl/U2Uwz2\n",
            "\n",
            "Features are computed from a digitized image of a fine needle\n",
            "aspirate (FNA) of a breast mass.  They describe\n",
            "characteristics of the cell nuclei present in the image.\n",
            "\n",
            "Separating plane described above was obtained using\n",
            "Multisurface Method-Tree (MSM-T) [K. P. Bennett, \"Decision Tree\n",
            "Construction Via Linear Programming.\" Proceedings of the 4th\n",
            "Midwest Artificial Intelligence and Cognitive Science Society,\n",
            "pp. 97-101, 1992], a classification method which uses linear\n",
            "programming to construct a decision tree.  Relevant features\n",
            "were selected using an exhaustive search in the space of 1-4\n",
            "features and 1-3 separating planes.\n",
            "\n",
            "The actual linear program used to obtain the separating plane\n",
            "in the 3-dimensional space is that described in:\n",
            "[K. P. Bennett and O. L. Mangasarian: \"Robust Linear\n",
            "Programming Discrimination of Two Linearly Inseparable Sets\",\n",
            "Optimization Methods and Software 1, 1992, 23-34].\n",
            "\n",
            "This database is also available through the UW CS ftp server:\n",
            "\n",
            "ftp ftp.cs.wisc.edu\n",
            "cd math-prog/cpo-dataset/machine-learn/WDBC/\n",
            "\n",
            ".. topic:: References\n",
            "\n",
            "   - W.N. Street, W.H. Wolberg and O.L. Mangasarian. Nuclear feature extraction \n",
            "     for breast tumor diagnosis. IS&T/SPIE 1993 International Symposium on \n",
            "     Electronic Imaging: Science and Technology, volume 1905, pages 861-870,\n",
            "     San Jose, CA, 1993.\n",
            "   - O.L. Mangasarian, W.N. Street and W.H. Wolberg. Breast cancer diagnosis and \n",
            "     prognosis via linear programming. Operations Research, 43(4), pages 570-577, \n",
            "     July-August 1995.\n",
            "   - W.H. Wolberg, W.N. Street, and O.L. Mangasarian. Machine learning techniques\n",
            "     to diagnose breast cancer from fine-needle aspirates. Cancer Letters 77 (1994) \n",
            "     163-171.\n"
          ]
        }
      ]
    },
    {
      "cell_type": "code",
      "metadata": {
        "colab": {
          "base_uri": "https://localhost:8080/"
        },
        "id": "W07XjGhau9k6",
        "outputId": "5a98e844-7bb2-4503-dff0-9add310e3b4d"
      },
      "source": [
        "data['data'].shape"
      ],
      "execution_count": 5,
      "outputs": [
        {
          "output_type": "execute_result",
          "data": {
            "text/plain": [
              "(569, 30)"
            ]
          },
          "metadata": {},
          "execution_count": 5
        }
      ]
    },
    {
      "cell_type": "code",
      "metadata": {
        "colab": {
          "base_uri": "https://localhost:8080/"
        },
        "id": "2x-HNLwPvBYB",
        "outputId": "df638b8c-4563-488c-dfb1-a70a0bd52df8"
      },
      "source": [
        "data['feature_names']"
      ],
      "execution_count": 6,
      "outputs": [
        {
          "output_type": "execute_result",
          "data": {
            "text/plain": [
              "array(['mean radius', 'mean texture', 'mean perimeter', 'mean area',\n",
              "       'mean smoothness', 'mean compactness', 'mean concavity',\n",
              "       'mean concave points', 'mean symmetry', 'mean fractal dimension',\n",
              "       'radius error', 'texture error', 'perimeter error', 'area error',\n",
              "       'smoothness error', 'compactness error', 'concavity error',\n",
              "       'concave points error', 'symmetry error',\n",
              "       'fractal dimension error', 'worst radius', 'worst texture',\n",
              "       'worst perimeter', 'worst area', 'worst smoothness',\n",
              "       'worst compactness', 'worst concavity', 'worst concave points',\n",
              "       'worst symmetry', 'worst fractal dimension'], dtype='<U23')"
            ]
          },
          "metadata": {},
          "execution_count": 6
        }
      ]
    },
    {
      "cell_type": "code",
      "metadata": {
        "colab": {
          "base_uri": "https://localhost:8080/"
        },
        "id": "ypVZWPtpvFp-",
        "outputId": "73713088-65f5-4f49-8924-79a1cc677866"
      },
      "source": [
        "data['data'][0]"
      ],
      "execution_count": 7,
      "outputs": [
        {
          "output_type": "execute_result",
          "data": {
            "text/plain": [
              "array([1.799e+01, 1.038e+01, 1.228e+02, 1.001e+03, 1.184e-01, 2.776e-01,\n",
              "       3.001e-01, 1.471e-01, 2.419e-01, 7.871e-02, 1.095e+00, 9.053e-01,\n",
              "       8.589e+00, 1.534e+02, 6.399e-03, 4.904e-02, 5.373e-02, 1.587e-02,\n",
              "       3.003e-02, 6.193e-03, 2.538e+01, 1.733e+01, 1.846e+02, 2.019e+03,\n",
              "       1.622e-01, 6.656e-01, 7.119e-01, 2.654e-01, 4.601e-01, 1.189e-01])"
            ]
          },
          "metadata": {},
          "execution_count": 7
        }
      ]
    },
    {
      "cell_type": "code",
      "metadata": {
        "colab": {
          "base_uri": "https://localhost:8080/"
        },
        "id": "S7Ujq1f7vJRQ",
        "outputId": "a3888473-fa63-43ec-a1df-d6daed2265ec"
      },
      "source": [
        "j = 0\n",
        "for i in data['feature_names']:\n",
        "  print(i,\":\",data['data'][0][j])\n",
        "  j+=1\n"
      ],
      "execution_count": 8,
      "outputs": [
        {
          "output_type": "stream",
          "name": "stdout",
          "text": [
            "mean radius : 17.99\n",
            "mean texture : 10.38\n",
            "mean perimeter : 122.8\n",
            "mean area : 1001.0\n",
            "mean smoothness : 0.1184\n",
            "mean compactness : 0.2776\n",
            "mean concavity : 0.3001\n",
            "mean concave points : 0.1471\n",
            "mean symmetry : 0.2419\n",
            "mean fractal dimension : 0.07871\n",
            "radius error : 1.095\n",
            "texture error : 0.9053\n",
            "perimeter error : 8.589\n",
            "area error : 153.4\n",
            "smoothness error : 0.006399\n",
            "compactness error : 0.04904\n",
            "concavity error : 0.05373\n",
            "concave points error : 0.01587\n",
            "symmetry error : 0.03003\n",
            "fractal dimension error : 0.006193\n",
            "worst radius : 25.38\n",
            "worst texture : 17.33\n",
            "worst perimeter : 184.6\n",
            "worst area : 2019.0\n",
            "worst smoothness : 0.1622\n",
            "worst compactness : 0.6656\n",
            "worst concavity : 0.7119\n",
            "worst concave points : 0.2654\n",
            "worst symmetry : 0.4601\n",
            "worst fractal dimension : 0.1189\n"
          ]
        }
      ]
    },
    {
      "cell_type": "code",
      "metadata": {
        "id": "WwYi0VXavL2h"
      },
      "source": [
        "feature = data['data']"
      ],
      "execution_count": 9,
      "outputs": []
    },
    {
      "cell_type": "code",
      "metadata": {
        "id": "t5PxUAjGvPbR"
      },
      "source": [
        "label = data['target']"
      ],
      "execution_count": 10,
      "outputs": []
    },
    {
      "cell_type": "code",
      "metadata": {
        "colab": {
          "base_uri": "https://localhost:8080/"
        },
        "id": "8YuSaAaCvRsH",
        "outputId": "72409a0c-da99-4cbf-e0e3-e731c3d1e0c2"
      },
      "source": [
        "\n",
        "data['target_names']"
      ],
      "execution_count": 11,
      "outputs": [
        {
          "output_type": "execute_result",
          "data": {
            "text/plain": [
              "array(['malignant', 'benign'], dtype='<U9')"
            ]
          },
          "metadata": {},
          "execution_count": 11
        }
      ]
    },
    {
      "cell_type": "code",
      "metadata": {
        "colab": {
          "base_uri": "https://localhost:8080/"
        },
        "id": "Opes16ECvUJ7",
        "outputId": "a1971ef2-faf2-4fa6-8c4b-bc8480a124e7"
      },
      "source": [
        "feature.shape"
      ],
      "execution_count": 12,
      "outputs": [
        {
          "output_type": "execute_result",
          "data": {
            "text/plain": [
              "(569, 30)"
            ]
          },
          "metadata": {},
          "execution_count": 12
        }
      ]
    },
    {
      "cell_type": "code",
      "metadata": {
        "colab": {
          "base_uri": "https://localhost:8080/"
        },
        "id": "5KJYMwA7vXd2",
        "outputId": "21797475-a66d-4666-e4a2-e4df6770f2d8"
      },
      "source": [
        "label.shape"
      ],
      "execution_count": 13,
      "outputs": [
        {
          "output_type": "execute_result",
          "data": {
            "text/plain": [
              "(569,)"
            ]
          },
          "metadata": {},
          "execution_count": 13
        }
      ]
    },
    {
      "cell_type": "code",
      "metadata": {
        "id": "Rx_jqf7Evdz-"
      },
      "source": [
        "scale = StandardScaler()\n",
        "\n",
        "feature = scale.fit_transform(feature)"
      ],
      "execution_count": 14,
      "outputs": []
    },
    {
      "cell_type": "code",
      "metadata": {
        "colab": {
          "base_uri": "https://localhost:8080/"
        },
        "id": "4jeFNdFpvglD",
        "outputId": "e7139a5e-9763-46fb-954b-290c83c8a884"
      },
      "source": [
        "j = 0\n",
        "for i in data['feature_names']:\n",
        "  print(i,\":\",feature[0][j])\n",
        "  j+=1"
      ],
      "execution_count": 15,
      "outputs": [
        {
          "output_type": "stream",
          "name": "stdout",
          "text": [
            "mean radius : 1.0970639814699807\n",
            "mean texture : -2.0733350146975935\n",
            "mean perimeter : 1.2699336881399383\n",
            "mean area : 0.9843749048031144\n",
            "mean smoothness : 1.568466329243428\n",
            "mean compactness : 3.2835146709868264\n",
            "mean concavity : 2.652873983743168\n",
            "mean concave points : 2.532475216403245\n",
            "mean symmetry : 2.2175150059646405\n",
            "mean fractal dimension : 2.255746885296269\n",
            "radius error : 2.4897339267376193\n",
            "texture error : -0.5652650590684639\n",
            "perimeter error : 2.833030865855184\n",
            "area error : 2.4875775569611043\n",
            "smoothness error : -0.21400164666895383\n",
            "compactness error : 1.3168615683959484\n",
            "concavity error : 0.72402615808036\n",
            "concave points error : 0.6608199414286064\n",
            "symmetry error : 1.1487566671861758\n",
            "fractal dimension error : 0.9070830809973359\n",
            "worst radius : 1.8866896251792757\n",
            "worst texture : -1.3592934737640827\n",
            "worst perimeter : 2.3036006236225606\n",
            "worst area : 2.0012374893299207\n",
            "worst smoothness : 1.3076862710715387\n",
            "worst compactness : 2.616665023512603\n",
            "worst concavity : 2.1095263465722556\n",
            "worst concave points : 2.296076127561788\n",
            "worst symmetry : 2.750622244124955\n",
            "worst fractal dimension : 1.9370146123781782\n"
          ]
        }
      ]
    },
    {
      "cell_type": "code",
      "metadata": {
        "colab": {
          "base_uri": "https://localhost:8080/"
        },
        "id": "mwWEHZlIvqoY",
        "outputId": "001b0f6d-5810-4b4c-d7a0-f3f7062cb316"
      },
      "source": [
        "print(feature[568])\n",
        "print(data['target_names'][label[568]],label[568])"
      ],
      "execution_count": 16,
      "outputs": [
        {
          "output_type": "stream",
          "name": "stdout",
          "text": [
            "[-1.80840125  1.22179204 -1.81438851 -1.34778924 -3.11208479 -1.15075248\n",
            " -1.11487284 -1.26181958 -0.8200699  -0.56103238 -0.07027874  0.3830925\n",
            " -0.15744905 -0.46615196  0.04934236 -1.16351619 -1.05750068 -1.91344745\n",
            "  0.75282996 -0.382754   -1.41089258  0.76418957 -1.43273495 -1.07581292\n",
            " -1.85901852 -1.2075525  -1.30583065 -1.74506282 -0.04813821 -0.75120669]\n",
            "benign 1\n"
          ]
        }
      ]
    },
    {
      "cell_type": "code",
      "metadata": {
        "id": "dvDJl82Vvu34"
      },
      "source": [
        "df_frt = pd.DataFrame(feature , columns = data['feature_names'])\n",
        "df_lbl = pd.DataFrame(label , columns = ['label'])\n",
        "df = pd.concat([df_frt, df_lbl], axis=1)\n",
        "df = df.sample(frac = 1)\n",
        "\n",
        "feature = df.values[ : , : 30]\n",
        "label = df.values[ : ,30: ]"
      ],
      "execution_count": 17,
      "outputs": []
    },
    {
      "cell_type": "code",
      "metadata": {
        "colab": {
          "base_uri": "https://localhost:8080/",
          "height": 470
        },
        "id": "vG_AiKgCvx95",
        "outputId": "afcf0546-c943-49cc-b3f8-f5779f45f4cf"
      },
      "source": [
        "\n",
        "df"
      ],
      "execution_count": 18,
      "outputs": [
        {
          "output_type": "execute_result",
          "data": {
            "text/html": [
              "<div>\n",
              "<style scoped>\n",
              "    .dataframe tbody tr th:only-of-type {\n",
              "        vertical-align: middle;\n",
              "    }\n",
              "\n",
              "    .dataframe tbody tr th {\n",
              "        vertical-align: top;\n",
              "    }\n",
              "\n",
              "    .dataframe thead th {\n",
              "        text-align: right;\n",
              "    }\n",
              "</style>\n",
              "<table border=\"1\" class=\"dataframe\">\n",
              "  <thead>\n",
              "    <tr style=\"text-align: right;\">\n",
              "      <th></th>\n",
              "      <th>mean radius</th>\n",
              "      <th>mean texture</th>\n",
              "      <th>mean perimeter</th>\n",
              "      <th>mean area</th>\n",
              "      <th>mean smoothness</th>\n",
              "      <th>mean compactness</th>\n",
              "      <th>mean concavity</th>\n",
              "      <th>mean concave points</th>\n",
              "      <th>mean symmetry</th>\n",
              "      <th>mean fractal dimension</th>\n",
              "      <th>radius error</th>\n",
              "      <th>texture error</th>\n",
              "      <th>perimeter error</th>\n",
              "      <th>area error</th>\n",
              "      <th>smoothness error</th>\n",
              "      <th>compactness error</th>\n",
              "      <th>concavity error</th>\n",
              "      <th>concave points error</th>\n",
              "      <th>symmetry error</th>\n",
              "      <th>fractal dimension error</th>\n",
              "      <th>worst radius</th>\n",
              "      <th>worst texture</th>\n",
              "      <th>worst perimeter</th>\n",
              "      <th>worst area</th>\n",
              "      <th>worst smoothness</th>\n",
              "      <th>worst compactness</th>\n",
              "      <th>worst concavity</th>\n",
              "      <th>worst concave points</th>\n",
              "      <th>worst symmetry</th>\n",
              "      <th>worst fractal dimension</th>\n",
              "      <th>label</th>\n",
              "    </tr>\n",
              "  </thead>\n",
              "  <tbody>\n",
              "    <tr>\n",
              "      <th>290</th>\n",
              "      <td>0.080293</td>\n",
              "      <td>0.102473</td>\n",
              "      <td>0.167272</td>\n",
              "      <td>-0.011061</td>\n",
              "      <td>-0.625564</td>\n",
              "      <td>1.198852</td>\n",
              "      <td>0.595114</td>\n",
              "      <td>0.441099</td>\n",
              "      <td>-0.356400</td>\n",
              "      <td>1.293194</td>\n",
              "      <td>1.717724</td>\n",
              "      <td>1.003598</td>\n",
              "      <td>0.739546</td>\n",
              "      <td>0.809067</td>\n",
              "      <td>0.240350</td>\n",
              "      <td>4.522686</td>\n",
              "      <td>2.244939</td>\n",
              "      <td>2.581382</td>\n",
              "      <td>2.449140</td>\n",
              "      <td>7.211398</td>\n",
              "      <td>-0.103373</td>\n",
              "      <td>-0.577643</td>\n",
              "      <td>-0.165645</td>\n",
              "      <td>-0.199142</td>\n",
              "      <td>-1.426358</td>\n",
              "      <td>-0.044944</td>\n",
              "      <td>-0.240780</td>\n",
              "      <td>-0.190427</td>\n",
              "      <td>-1.017189</td>\n",
              "      <td>0.224112</td>\n",
              "      <td>1</td>\n",
              "    </tr>\n",
              "    <tr>\n",
              "      <th>549</th>\n",
              "      <td>-0.939318</td>\n",
              "      <td>1.144999</td>\n",
              "      <td>-0.950630</td>\n",
              "      <td>-0.834144</td>\n",
              "      <td>-1.027649</td>\n",
              "      <td>-0.726239</td>\n",
              "      <td>-0.920522</td>\n",
              "      <td>-1.051341</td>\n",
              "      <td>0.600147</td>\n",
              "      <td>0.068384</td>\n",
              "      <td>0.412994</td>\n",
              "      <td>1.272121</td>\n",
              "      <td>0.345502</td>\n",
              "      <td>-0.161428</td>\n",
              "      <td>0.407357</td>\n",
              "      <td>-0.378827</td>\n",
              "      <td>-0.634086</td>\n",
              "      <td>-0.953653</td>\n",
              "      <td>0.498565</td>\n",
              "      <td>-0.309373</td>\n",
              "      <td>-0.670780</td>\n",
              "      <td>0.940061</td>\n",
              "      <td>-0.695833</td>\n",
              "      <td>-0.659188</td>\n",
              "      <td>-0.524654</td>\n",
              "      <td>-0.578665</td>\n",
              "      <td>-1.008672</td>\n",
              "      <td>-1.248067</td>\n",
              "      <td>0.256005</td>\n",
              "      <td>-0.425916</td>\n",
              "      <td>1</td>\n",
              "    </tr>\n",
              "    <tr>\n",
              "      <th>199</th>\n",
              "      <td>0.091654</td>\n",
              "      <td>0.216499</td>\n",
              "      <td>0.103839</td>\n",
              "      <td>-0.034667</td>\n",
              "      <td>0.167930</td>\n",
              "      <td>0.308132</td>\n",
              "      <td>0.366614</td>\n",
              "      <td>0.280661</td>\n",
              "      <td>0.505223</td>\n",
              "      <td>0.264013</td>\n",
              "      <td>-0.707304</td>\n",
              "      <td>-1.026834</td>\n",
              "      <td>-0.702973</td>\n",
              "      <td>-0.460212</td>\n",
              "      <td>-0.999033</td>\n",
              "      <td>-0.531406</td>\n",
              "      <td>-0.394360</td>\n",
              "      <td>-0.728830</td>\n",
              "      <td>-0.644416</td>\n",
              "      <td>-0.688003</td>\n",
              "      <td>0.426758</td>\n",
              "      <td>0.723479</td>\n",
              "      <td>0.316885</td>\n",
              "      <td>0.287273</td>\n",
              "      <td>1.000835</td>\n",
              "      <td>0.962702</td>\n",
              "      <td>1.077099</td>\n",
              "      <td>1.053586</td>\n",
              "      <td>2.996525</td>\n",
              "      <td>0.961696</td>\n",
              "      <td>0</td>\n",
              "    </tr>\n",
              "    <tr>\n",
              "      <th>339</th>\n",
              "      <td>2.664822</td>\n",
              "      <td>1.158961</td>\n",
              "      <td>2.600377</td>\n",
              "      <td>3.106075</td>\n",
              "      <td>0.750064</td>\n",
              "      <td>0.454059</td>\n",
              "      <td>1.782814</td>\n",
              "      <td>2.375132</td>\n",
              "      <td>-0.053372</td>\n",
              "      <td>-1.096887</td>\n",
              "      <td>2.179342</td>\n",
              "      <td>-0.530430</td>\n",
              "      <td>1.780101</td>\n",
              "      <td>2.722996</td>\n",
              "      <td>-0.249670</td>\n",
              "      <td>-0.322379</td>\n",
              "      <td>0.130184</td>\n",
              "      <td>0.196900</td>\n",
              "      <td>-0.696480</td>\n",
              "      <td>-0.256040</td>\n",
              "      <td>2.982156</td>\n",
              "      <td>0.822813</td>\n",
              "      <td>2.833789</td>\n",
              "      <td>3.560506</td>\n",
              "      <td>0.838642</td>\n",
              "      <td>0.086101</td>\n",
              "      <td>1.006096</td>\n",
              "      <td>1.435773</td>\n",
              "      <td>-0.497881</td>\n",
              "      <td>-0.363850</td>\n",
              "      <td>0</td>\n",
              "    </tr>\n",
              "    <tr>\n",
              "      <th>482</th>\n",
              "      <td>-0.186680</td>\n",
              "      <td>-1.216974</td>\n",
              "      <td>-0.191495</td>\n",
              "      <td>-0.308839</td>\n",
              "      <td>0.764297</td>\n",
              "      <td>0.211480</td>\n",
              "      <td>-0.388442</td>\n",
              "      <td>0.096492</td>\n",
              "      <td>-0.119089</td>\n",
              "      <td>0.509259</td>\n",
              "      <td>-0.889208</td>\n",
              "      <td>-1.167627</td>\n",
              "      <td>-0.873263</td>\n",
              "      <td>-0.604983</td>\n",
              "      <td>-0.863695</td>\n",
              "      <td>-0.612445</td>\n",
              "      <td>-0.615186</td>\n",
              "      <td>-0.487462</td>\n",
              "      <td>-0.431318</td>\n",
              "      <td>-0.381241</td>\n",
              "      <td>-0.298031</td>\n",
              "      <td>-1.198078</td>\n",
              "      <td>-0.366998</td>\n",
              "      <td>-0.387414</td>\n",
              "      <td>0.303844</td>\n",
              "      <td>-0.027768</td>\n",
              "      <td>-0.419248</td>\n",
              "      <td>0.287688</td>\n",
              "      <td>0.527792</td>\n",
              "      <td>0.516153</td>\n",
              "      <td>1</td>\n",
              "    </tr>\n",
              "    <tr>\n",
              "      <th>...</th>\n",
              "      <td>...</td>\n",
              "      <td>...</td>\n",
              "      <td>...</td>\n",
              "      <td>...</td>\n",
              "      <td>...</td>\n",
              "      <td>...</td>\n",
              "      <td>...</td>\n",
              "      <td>...</td>\n",
              "      <td>...</td>\n",
              "      <td>...</td>\n",
              "      <td>...</td>\n",
              "      <td>...</td>\n",
              "      <td>...</td>\n",
              "      <td>...</td>\n",
              "      <td>...</td>\n",
              "      <td>...</td>\n",
              "      <td>...</td>\n",
              "      <td>...</td>\n",
              "      <td>...</td>\n",
              "      <td>...</td>\n",
              "      <td>...</td>\n",
              "      <td>...</td>\n",
              "      <td>...</td>\n",
              "      <td>...</td>\n",
              "      <td>...</td>\n",
              "      <td>...</td>\n",
              "      <td>...</td>\n",
              "      <td>...</td>\n",
              "      <td>...</td>\n",
              "      <td>...</td>\n",
              "      <td>...</td>\n",
              "    </tr>\n",
              "    <tr>\n",
              "      <th>415</th>\n",
              "      <td>-0.635423</td>\n",
              "      <td>0.437570</td>\n",
              "      <td>-0.641704</td>\n",
              "      <td>-0.628800</td>\n",
              "      <td>0.097477</td>\n",
              "      <td>-0.438556</td>\n",
              "      <td>-0.794093</td>\n",
              "      <td>-0.699769</td>\n",
              "      <td>0.757138</td>\n",
              "      <td>0.014515</td>\n",
              "      <td>-0.470901</td>\n",
              "      <td>-0.025135</td>\n",
              "      <td>-0.463378</td>\n",
              "      <td>-0.457791</td>\n",
              "      <td>0.951379</td>\n",
              "      <td>0.282346</td>\n",
              "      <td>-0.517041</td>\n",
              "      <td>-0.408791</td>\n",
              "      <td>0.246722</td>\n",
              "      <td>-0.576040</td>\n",
              "      <td>-0.666638</td>\n",
              "      <td>0.249603</td>\n",
              "      <td>-0.660388</td>\n",
              "      <td>-0.628776</td>\n",
              "      <td>0.448503</td>\n",
              "      <td>-0.226243</td>\n",
              "      <td>-0.747399</td>\n",
              "      <td>-0.486889</td>\n",
              "      <td>0.281889</td>\n",
              "      <td>-0.578309</td>\n",
              "      <td>1</td>\n",
              "    </tr>\n",
              "    <tr>\n",
              "      <th>130</th>\n",
              "      <td>-0.550218</td>\n",
              "      <td>-1.396158</td>\n",
              "      <td>-0.530902</td>\n",
              "      <td>-0.566230</td>\n",
              "      <td>0.728714</td>\n",
              "      <td>-0.175320</td>\n",
              "      <td>-0.756428</td>\n",
              "      <td>-0.518437</td>\n",
              "      <td>0.249657</td>\n",
              "      <td>0.271101</td>\n",
              "      <td>-0.738704</td>\n",
              "      <td>-0.726742</td>\n",
              "      <td>-0.442092</td>\n",
              "      <td>-0.552179</td>\n",
              "      <td>-0.089330</td>\n",
              "      <td>-0.051314</td>\n",
              "      <td>-0.719962</td>\n",
              "      <td>-0.600522</td>\n",
              "      <td>0.735879</td>\n",
              "      <td>0.131668</td>\n",
              "      <td>-0.606584</td>\n",
              "      <td>-1.281128</td>\n",
              "      <td>-0.473035</td>\n",
              "      <td>-0.589574</td>\n",
              "      <td>0.452886</td>\n",
              "      <td>0.026940</td>\n",
              "      <td>-0.830156</td>\n",
              "      <td>-0.498461</td>\n",
              "      <td>0.919295</td>\n",
              "      <td>0.469050</td>\n",
              "      <td>1</td>\n",
              "    </tr>\n",
              "    <tr>\n",
              "      <th>38</th>\n",
              "      <td>0.245021</td>\n",
              "      <td>1.375378</td>\n",
              "      <td>0.147089</td>\n",
              "      <td>0.124887</td>\n",
              "      <td>-0.177222</td>\n",
              "      <td>-1.005016</td>\n",
              "      <td>-0.813805</td>\n",
              "      <td>-0.514052</td>\n",
              "      <td>-0.900391</td>\n",
              "      <td>-1.099722</td>\n",
              "      <td>2.919230</td>\n",
              "      <td>1.761994</td>\n",
              "      <td>2.579575</td>\n",
              "      <td>1.444697</td>\n",
              "      <td>-0.052662</td>\n",
              "      <td>-0.812530</td>\n",
              "      <td>-0.454706</td>\n",
              "      <td>1.196112</td>\n",
              "      <td>-1.532890</td>\n",
              "      <td>-0.771975</td>\n",
              "      <td>-0.264898</td>\n",
              "      <td>-0.077713</td>\n",
              "      <td>-0.349126</td>\n",
              "      <td>-0.319559</td>\n",
              "      <td>-1.687620</td>\n",
              "      <td>-1.291078</td>\n",
              "      <td>-1.190786</td>\n",
              "      <td>-1.303644</td>\n",
              "      <td>-2.160960</td>\n",
              "      <td>-1.601839</td>\n",
              "      <td>0</td>\n",
              "    </tr>\n",
              "    <tr>\n",
              "      <th>440</th>\n",
              "      <td>-0.896716</td>\n",
              "      <td>-0.486275</td>\n",
              "      <td>-0.833650</td>\n",
              "      <td>-0.805988</td>\n",
              "      <td>-0.513123</td>\n",
              "      <td>0.131884</td>\n",
              "      <td>0.072451</td>\n",
              "      <td>-0.329883</td>\n",
              "      <td>-1.177862</td>\n",
              "      <td>0.510676</td>\n",
              "      <td>-0.533340</td>\n",
              "      <td>0.288747</td>\n",
              "      <td>-0.029731</td>\n",
              "      <td>-0.488154</td>\n",
              "      <td>0.508028</td>\n",
              "      <td>1.168195</td>\n",
              "      <td>1.074496</td>\n",
              "      <td>0.954419</td>\n",
              "      <td>-0.651681</td>\n",
              "      <td>0.446751</td>\n",
              "      <td>-0.809525</td>\n",
              "      <td>0.194236</td>\n",
              "      <td>-0.509970</td>\n",
              "      <td>-0.710519</td>\n",
              "      <td>0.295077</td>\n",
              "      <td>0.979241</td>\n",
              "      <td>0.986906</td>\n",
              "      <td>0.622673</td>\n",
              "      <td>-0.583624</td>\n",
              "      <td>0.630310</td>\n",
              "      <td>1</td>\n",
              "    </tr>\n",
              "    <tr>\n",
              "      <th>66</th>\n",
              "      <td>-1.324157</td>\n",
              "      <td>0.400337</td>\n",
              "      <td>-1.312280</td>\n",
              "      <td>-1.096371</td>\n",
              "      <td>0.572150</td>\n",
              "      <td>-0.504318</td>\n",
              "      <td>-0.842179</td>\n",
              "      <td>-0.873878</td>\n",
              "      <td>-0.345447</td>\n",
              "      <td>0.877836</td>\n",
              "      <td>-0.613826</td>\n",
              "      <td>1.440855</td>\n",
              "      <td>-0.597036</td>\n",
              "      <td>-0.575060</td>\n",
              "      <td>1.159721</td>\n",
              "      <td>-0.443100</td>\n",
              "      <td>-0.489189</td>\n",
              "      <td>-0.399545</td>\n",
              "      <td>0.272148</td>\n",
              "      <td>0.167223</td>\n",
              "      <td>-1.213336</td>\n",
              "      <td>0.957974</td>\n",
              "      <td>-1.198320</td>\n",
              "      <td>-0.966647</td>\n",
              "      <td>0.983301</td>\n",
              "      <td>-0.558944</td>\n",
              "      <td>-0.854288</td>\n",
              "      <td>-0.752745</td>\n",
              "      <td>-0.036814</td>\n",
              "      <td>0.452425</td>\n",
              "      <td>1</td>\n",
              "    </tr>\n",
              "  </tbody>\n",
              "</table>\n",
              "<p>569 rows × 31 columns</p>\n",
              "</div>"
            ],
            "text/plain": [
              "     mean radius  mean texture  ...  worst fractal dimension  label\n",
              "290     0.080293      0.102473  ...                 0.224112      1\n",
              "549    -0.939318      1.144999  ...                -0.425916      1\n",
              "199     0.091654      0.216499  ...                 0.961696      0\n",
              "339     2.664822      1.158961  ...                -0.363850      0\n",
              "482    -0.186680     -1.216974  ...                 0.516153      1\n",
              "..           ...           ...  ...                      ...    ...\n",
              "415    -0.635423      0.437570  ...                -0.578309      1\n",
              "130    -0.550218     -1.396158  ...                 0.469050      1\n",
              "38      0.245021      1.375378  ...                -1.601839      0\n",
              "440    -0.896716     -0.486275  ...                 0.630310      1\n",
              "66     -1.324157      0.400337  ...                 0.452425      1\n",
              "\n",
              "[569 rows x 31 columns]"
            ]
          },
          "metadata": {},
          "execution_count": 18
        }
      ]
    },
    {
      "cell_type": "code",
      "metadata": {
        "id": "je8w-pLYv05s"
      },
      "source": [
        "#500 Training\n",
        "X_train = feature[:500]\n",
        "y_train = label[:500]\n",
        "\n",
        "#35 Validation\n",
        "X_val = feature[500:535]\n",
        "y_val = label[500:535]\n",
        "\n",
        "#34 Testing\n",
        "X_test = feature[535:]\n",
        "y_test = label[535:]"
      ],
      "execution_count": 19,
      "outputs": []
    },
    {
      "cell_type": "code",
      "metadata": {
        "id": "OtXsh6GBzaai"
      },
      "source": [
        "model = Sequential()\n",
        "\n",
        "model.add(Dense(32, activation = 'relu', input_dim = 30))\n",
        "model.add(Dense(64, activation = 'relu'))\n",
        "model.add(Dense(128, activation = 'relu'))\n",
        "model.add(Dense(64, activation = 'relu'))\n",
        "model.add(Dense(32, activation = 'relu'))\n",
        "model.add(Dense(1, activation = 'sigmoid'))\n",
        "\n",
        "model.compile( loss = 'binary_crossentropy' , optimizer = 'adam' , metrics = ['accuracy'])"
      ],
      "execution_count": 20,
      "outputs": []
    },
    {
      "cell_type": "code",
      "metadata": {
        "colab": {
          "base_uri": "https://localhost:8080/"
        },
        "id": "aMXawAHuzd-H",
        "outputId": "ec1870f4-5344-404f-8c57-c5578347941d"
      },
      "source": [
        "model.fit( X_train , y_train, epochs = 10, batch_size = 5, validation_data = (X_val, y_val))\n"
      ],
      "execution_count": 21,
      "outputs": [
        {
          "output_type": "stream",
          "name": "stdout",
          "text": [
            "Epoch 1/10\n",
            "100/100 [==============================] - 1s 4ms/step - loss: 0.2572 - accuracy: 0.8900 - val_loss: 0.0370 - val_accuracy: 1.0000\n",
            "Epoch 2/10\n",
            "100/100 [==============================] - 0s 2ms/step - loss: 0.0836 - accuracy: 0.9700 - val_loss: 0.0210 - val_accuracy: 1.0000\n",
            "Epoch 3/10\n",
            "100/100 [==============================] - 0s 2ms/step - loss: 0.0758 - accuracy: 0.9740 - val_loss: 0.0132 - val_accuracy: 1.0000\n",
            "Epoch 4/10\n",
            "100/100 [==============================] - 0s 2ms/step - loss: 0.0458 - accuracy: 0.9840 - val_loss: 0.0040 - val_accuracy: 1.0000\n",
            "Epoch 5/10\n",
            "100/100 [==============================] - 0s 2ms/step - loss: 0.0406 - accuracy: 0.9880 - val_loss: 0.0105 - val_accuracy: 1.0000\n",
            "Epoch 6/10\n",
            "100/100 [==============================] - 0s 2ms/step - loss: 0.0303 - accuracy: 0.9920 - val_loss: 0.0047 - val_accuracy: 1.0000\n",
            "Epoch 7/10\n",
            "100/100 [==============================] - 0s 2ms/step - loss: 0.0215 - accuracy: 0.9920 - val_loss: 0.0033 - val_accuracy: 1.0000\n",
            "Epoch 8/10\n",
            "100/100 [==============================] - 0s 2ms/step - loss: 0.0201 - accuracy: 0.9920 - val_loss: 0.0022 - val_accuracy: 1.0000\n",
            "Epoch 9/10\n",
            "100/100 [==============================] - 0s 2ms/step - loss: 0.0096 - accuracy: 0.9940 - val_loss: 0.0031 - val_accuracy: 1.0000\n",
            "Epoch 10/10\n",
            "100/100 [==============================] - 0s 2ms/step - loss: 0.0064 - accuracy: 0.9980 - val_loss: 0.0198 - val_accuracy: 1.0000\n"
          ]
        },
        {
          "output_type": "execute_result",
          "data": {
            "text/plain": [
              "<keras.callbacks.History at 0x7f4ba529c210>"
            ]
          },
          "metadata": {},
          "execution_count": 21
        }
      ]
    },
    {
      "cell_type": "code",
      "metadata": {
        "colab": {
          "base_uri": "https://localhost:8080/"
        },
        "id": "F2-ozsntzgqN",
        "outputId": "951183c1-51a6-4151-bd5c-b6afe6274f44"
      },
      "source": [
        "model.evaluate(X_test , y_test)\n"
      ],
      "execution_count": 22,
      "outputs": [
        {
          "output_type": "stream",
          "name": "stdout",
          "text": [
            "2/2 [==============================] - 0s 4ms/step - loss: 0.0190 - accuracy: 1.0000\n"
          ]
        },
        {
          "output_type": "execute_result",
          "data": {
            "text/plain": [
              "[0.01902054063975811, 1.0]"
            ]
          },
          "metadata": {},
          "execution_count": 22
        }
      ]
    },
    {
      "cell_type": "code",
      "metadata": {
        "colab": {
          "base_uri": "https://localhost:8080/"
        },
        "id": "OhRyStTezj8f",
        "outputId": "d513e338-2e4a-4766-bbb3-d42ad298017a"
      },
      "source": [
        "model.evaluate(X_val , y_val)\n"
      ],
      "execution_count": 23,
      "outputs": [
        {
          "output_type": "stream",
          "name": "stdout",
          "text": [
            "2/2 [==============================] - 0s 9ms/step - loss: 0.0198 - accuracy: 1.0000\n"
          ]
        },
        {
          "output_type": "execute_result",
          "data": {
            "text/plain": [
              "[0.01983730122447014, 1.0]"
            ]
          },
          "metadata": {},
          "execution_count": 23
        }
      ]
    },
    {
      "cell_type": "code",
      "metadata": {
        "colab": {
          "base_uri": "https://localhost:8080/"
        },
        "id": "3oYTVUOuzmcR",
        "outputId": "ee8eb4a4-fd6c-4871-edf4-ed2c976e523f"
      },
      "source": [
        "for i in range(30):\n",
        "  sample = X_test[i]\n",
        "  sample = np.reshape(sample, (1,30))\n",
        "\n",
        "  if (model.predict(sample)[0][0] > 0.5):\n",
        "    print(\"-Benign\")\n",
        "  else:\n",
        "    print(\"-Malignant\")\n",
        "\n",
        "  if (y_test[i] == 1):\n",
        "    print(\"*Banign\")\n",
        "  else:\n",
        "    print(\"*Melignant\")\n",
        "  print(\"-----------\")\n"
      ],
      "execution_count": 24,
      "outputs": [
        {
          "output_type": "stream",
          "name": "stdout",
          "text": [
            "-Benign\n",
            "*Banign\n",
            "-----------\n",
            "-Malignant\n",
            "*Melignant\n",
            "-----------\n",
            "-Benign\n",
            "*Banign\n",
            "-----------\n",
            "-Malignant\n",
            "*Melignant\n",
            "-----------\n",
            "-Malignant\n",
            "*Melignant\n",
            "-----------\n",
            "-Benign\n",
            "*Banign\n",
            "-----------\n",
            "-Benign\n",
            "*Banign\n",
            "-----------\n",
            "-Benign\n",
            "*Banign\n",
            "-----------\n",
            "-Benign\n",
            "*Banign\n",
            "-----------\n",
            "-Benign\n",
            "*Banign\n",
            "-----------\n",
            "-Malignant\n",
            "*Melignant\n",
            "-----------\n",
            "-Benign\n",
            "*Banign\n",
            "-----------\n",
            "-Malignant\n",
            "*Melignant\n",
            "-----------\n",
            "-Malignant\n",
            "*Melignant\n",
            "-----------\n",
            "-Benign\n",
            "*Banign\n",
            "-----------\n",
            "-Benign\n",
            "*Banign\n",
            "-----------\n",
            "-Malignant\n",
            "*Melignant\n",
            "-----------\n",
            "-Benign\n",
            "*Banign\n",
            "-----------\n",
            "-Benign\n",
            "*Banign\n",
            "-----------\n",
            "-Benign\n",
            "*Banign\n",
            "-----------\n",
            "-Malignant\n",
            "*Melignant\n",
            "-----------\n",
            "-Benign\n",
            "*Banign\n",
            "-----------\n",
            "-Malignant\n",
            "*Melignant\n",
            "-----------\n",
            "-Malignant\n",
            "*Melignant\n",
            "-----------\n",
            "-Malignant\n",
            "*Melignant\n",
            "-----------\n",
            "-Benign\n",
            "*Banign\n",
            "-----------\n",
            "-Benign\n",
            "*Banign\n",
            "-----------\n",
            "-Benign\n",
            "*Banign\n",
            "-----------\n",
            "-Benign\n",
            "*Banign\n",
            "-----------\n",
            "-Benign\n",
            "*Banign\n",
            "-----------\n"
          ]
        }
      ]
    },
    {
      "cell_type": "code",
      "metadata": {
        "colab": {
          "base_uri": "https://localhost:8080/"
        },
        "id": "yJVVH9_wzqy8",
        "outputId": "8969f6ca-fb2a-4ff2-ade0-50d68cd0b453"
      },
      "source": [
        "t = 0\n",
        "for i in y_val:\n",
        "  if (i == 1):\n",
        "    t += 1\n",
        "\n",
        "print(t)"
      ],
      "execution_count": 25,
      "outputs": [
        {
          "output_type": "stream",
          "name": "stdout",
          "text": [
            "23\n"
          ]
        }
      ]
    },
    {
      "cell_type": "code",
      "metadata": {
        "colab": {
          "base_uri": "https://localhost:8080/"
        },
        "id": "SB6KTQhizuXQ",
        "outputId": "034d907f-345a-46d0-8134-93d7c7009571"
      },
      "source": [
        "t = 0\n",
        "for i in y_test:\n",
        "  if (i == 1):\n",
        "    t += 1\n",
        "\n",
        "print(t)"
      ],
      "execution_count": 26,
      "outputs": [
        {
          "output_type": "stream",
          "name": "stdout",
          "text": [
            "22\n"
          ]
        }
      ]
    },
    {
      "cell_type": "code",
      "metadata": {
        "colab": {
          "base_uri": "https://localhost:8080/"
        },
        "id": "AehLYkMczxSh",
        "outputId": "a49d3790-0b11-46d9-a1bf-9c939210241e"
      },
      "source": [
        "X_test[0] * -.1\n"
      ],
      "execution_count": 27,
      "outputs": [
        {
          "output_type": "execute_result",
          "data": {
            "text/plain": [
              "array([ 0.05757796,  0.03652677,  0.0572504 ,  0.05935332, -0.0465402 ,\n",
              "        0.01281307,  0.05143686,  0.04039117, -0.04577603,  0.01683561,\n",
              "        0.04369745, -0.07895055,  0.04935748,  0.03986067, -0.03683553,\n",
              "        0.05124031,  0.04464168,  0.06947662,  0.00474989,  0.07553316,\n",
              "        0.05610259, -0.00199934,  0.0563882 ,  0.05644361, -0.04748043,\n",
              "        0.04896052,  0.05367876,  0.07909642, -0.02398267,  0.0727932 ])"
            ]
          },
          "metadata": {},
          "execution_count": 27
        }
      ]
    },
    {
      "cell_type": "code",
      "metadata": {
        "id": "mrwdduS-zzcy"
      },
      "source": [
        ""
      ],
      "execution_count": null,
      "outputs": []
    }
  ]
}